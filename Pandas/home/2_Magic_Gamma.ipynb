{
 "cells": [
  {
   "cell_type": "code",
   "execution_count": 133,
   "metadata": {},
   "outputs": [],
   "source": [
    "import pandas as pd\n",
    "import numpy as np\n",
    "import matplotlib.pyplot as plt\n",
    "from sklearn.preprocessing import StandardScaler\n",
    "from imblearn.over_sampling import RandomOverSampler\n",
    "import warnings\n",
    "warnings.filterwarnings('ignore')"
   ]
  },
  {
   "cell_type": "code",
   "execution_count": 134,
   "metadata": {},
   "outputs": [
    {
     "data": {
      "application/vnd.microsoft.datawrangler.viewer.v0+json": {
       "columns": [
        {
         "name": "index",
         "rawType": "int64",
         "type": "integer"
        },
        {
         "name": "fLength",
         "rawType": "float64",
         "type": "float"
        },
        {
         "name": "fWidth",
         "rawType": "float64",
         "type": "float"
        },
        {
         "name": "fSize",
         "rawType": "float64",
         "type": "float"
        },
        {
         "name": "fConc",
         "rawType": "float64",
         "type": "float"
        },
        {
         "name": "fConc1",
         "rawType": "float64",
         "type": "float"
        },
        {
         "name": "fAsym",
         "rawType": "float64",
         "type": "float"
        },
        {
         "name": "fM3Long",
         "rawType": "float64",
         "type": "float"
        },
        {
         "name": "fM3Trans",
         "rawType": "float64",
         "type": "float"
        },
        {
         "name": "fAlpha",
         "rawType": "float64",
         "type": "float"
        },
        {
         "name": "fDist",
         "rawType": "float64",
         "type": "float"
        },
        {
         "name": "class",
         "rawType": "object",
         "type": "string"
        }
       ],
       "conversionMethod": "pd.DataFrame",
       "ref": "9f9fcbe8-e980-4b1f-bc1a-838a767ac66e",
       "rows": [
        [
         "0",
         "28.7967",
         "16.0021",
         "2.6449",
         "0.3918",
         "0.1982",
         "27.7004",
         "22.011",
         "-8.2027",
         "40.092",
         "81.8828",
         "g"
        ],
        [
         "1",
         "31.6036",
         "11.7235",
         "2.5185",
         "0.5303",
         "0.3773",
         "26.2722",
         "23.8238",
         "-9.9574",
         "6.3609",
         "205.261",
         "g"
        ],
        [
         "2",
         "162.052",
         "136.031",
         "4.0612",
         "0.0374",
         "0.0187",
         "116.741",
         "-64.858",
         "-45.216",
         "76.96",
         "256.788",
         "g"
        ],
        [
         "3",
         "23.8172",
         "9.5728",
         "2.3385",
         "0.6147",
         "0.3922",
         "27.2107",
         "-6.4633",
         "-7.1513",
         "10.449",
         "116.737",
         "g"
        ],
        [
         "4",
         "75.1362",
         "30.9205",
         "3.1611",
         "0.3168",
         "0.1832",
         "-5.5277",
         "28.5525",
         "21.8393",
         "4.648",
         "356.462",
         "g"
        ],
        [
         "5",
         "51.624",
         "21.1502",
         "2.9085",
         "0.242",
         "0.134",
         "50.8761",
         "43.1887",
         "9.8145",
         "3.613",
         "238.098",
         "g"
        ],
        [
         "6",
         "48.2468",
         "17.3565",
         "3.0332",
         "0.2529",
         "0.1515",
         "8.573",
         "38.0957",
         "10.5868",
         "4.792",
         "219.087",
         "g"
        ],
        [
         "7",
         "26.7897",
         "13.7595",
         "2.5521",
         "0.4236",
         "0.2174",
         "29.6339",
         "20.456",
         "-2.9292",
         "0.812",
         "237.134",
         "g"
        ],
        [
         "8",
         "96.2327",
         "46.5165",
         "4.154",
         "0.0779",
         "0.039",
         "110.355",
         "85.0486",
         "43.1844",
         "4.854",
         "248.226",
         "g"
        ],
        [
         "9",
         "46.7619",
         "15.1993",
         "2.5786",
         "0.3377",
         "0.1913",
         "24.7548",
         "43.8771",
         "-6.6812",
         "7.875",
         "102.251",
         "g"
        ],
        [
         "10",
         "62.7766",
         "29.9104",
         "3.3331",
         "0.2475",
         "0.1261",
         "-33.9065",
         "57.5848",
         "23.771",
         "9.9144",
         "323.094",
         "g"
        ],
        [
         "11",
         "18.8562",
         "16.46",
         "2.4385",
         "0.5282",
         "0.2933",
         "25.1269",
         "-6.5401",
         "-16.9327",
         "11.461",
         "162.848",
         "g"
        ],
        [
         "12",
         "45.6321",
         "22.71",
         "3.0441",
         "0.2213",
         "0.1215",
         "-18.3986",
         "-20.6427",
         "-14.3164",
         "0.3822",
         "178.255",
         "g"
        ],
        [
         "13",
         "33.1818",
         "12.4655",
         "2.4955",
         "0.4696",
         "0.2412",
         "-17.0341",
         "-22.0762",
         "-8.1803",
         "41.929",
         "41.3816",
         "g"
        ],
        [
         "14",
         "60.458",
         "33.1061",
         "3.1944",
         "0.4679",
         "0.2464",
         "14.3",
         "-33.8765",
         "28.8315",
         "8.292",
         "372.568",
         "g"
        ],
        [
         "15",
         "29.4741",
         "22.4581",
         "2.6258",
         "0.3077",
         "0.174",
         "18.1242",
         "22.7035",
         "13.1673",
         "48.0364",
         "214.126",
         "g"
        ],
        [
         "16",
         "36.1741",
         "17.6865",
         "2.946",
         "0.2865",
         "0.1591",
         "-4.7746",
         "-18.9697",
         "11.3256",
         "0.254",
         "191.455",
         "g"
        ],
        [
         "17",
         "46.2915",
         "16.0328",
         "2.7756",
         "0.3403",
         "0.192",
         "49.9706",
         "33.3653",
         "-12.7979",
         "38.707",
         "75.5234",
         "g"
        ],
        [
         "18",
         "46.0588",
         "18.787",
         "3.2217",
         "0.2431",
         "0.1504",
         "49.2704",
         "34.1066",
         "10.7955",
         "8.686",
         "180.783",
         "g"
        ],
        [
         "19",
         "44.7394",
         "15.6364",
         "2.638",
         "0.3107",
         "0.1715",
         "14.043",
         "37.2246",
         "12.4183",
         "3.251",
         "221.806",
         "g"
        ],
        [
         "20",
         "91.6423",
         "71.8818",
         "3.8484",
         "0.078",
         "0.043",
         "-56.7107",
         "72.3016",
         "60.019",
         "16.622",
         "285.414",
         "g"
        ],
        [
         "21",
         "86.0486",
         "21.8287",
         "3.3587",
         "0.2369",
         "0.1662",
         "-58.7854",
         "57.8212",
         "-18.8093",
         "2.005",
         "302.553",
         "g"
        ],
        [
         "22",
         "90.5299",
         "17.8721",
         "3.033",
         "0.2122",
         "0.108",
         "-57.417",
         "84.6189",
         "14.9662",
         "2.039",
         "272.038",
         "g"
        ],
        [
         "23",
         "20.3836",
         "9.0462",
         "2.3365",
         "0.6359",
         "0.3894",
         "22.27",
         "12.9487",
         "-2.0403",
         "43.0032",
         "66.1667",
         "g"
        ],
        [
         "24",
         "87.2384",
         "27.935",
         "2.8848",
         "0.3155",
         "0.1806",
         "-18.2102",
         "66.6867",
         "-11.3438",
         "4.4265",
         "342.504",
         "g"
        ],
        [
         "25",
         "107.338",
         "29.1356",
         "3.5265",
         "0.1315",
         "0.0683",
         "-47.1175",
         "89.5136",
         "-20.0479",
         "3.312",
         "293.781",
         "g"
        ],
        [
         "26",
         "27.2304",
         "19.2817",
         "2.6375",
         "0.371",
         "0.2039",
         "23.0406",
         "23.3428",
         "9.7216",
         "77.5379",
         "104.283",
         "g"
        ],
        [
         "27",
         "26.7065",
         "18.907",
         "2.6781",
         "0.4281",
         "0.2214",
         "9.1616",
         "18.6858",
         "-11.6888",
         "26.881",
         "63.7637",
         "g"
        ],
        [
         "28",
         "23.5647",
         "9.9926",
         "2.2095",
         "0.5679",
         "0.3364",
         "30.0056",
         "-13.8665",
         "-8.26",
         "26.5328",
         "185.189",
         "g"
        ],
        [
         "29",
         "34.7486",
         "19.2286",
         "2.5629",
         "0.3666",
         "0.1984",
         "30.3637",
         "-16.3092",
         "14.3186",
         "1.521",
         "109.445",
         "g"
        ],
        [
         "30",
         "50.4829",
         "25.9699",
         "3.3194",
         "0.1941",
         "0.1133",
         "32.1193",
         "39.0162",
         "-18.1839",
         "22.471",
         "141.601",
         "g"
        ],
        [
         "31",
         "87.4217",
         "26.7866",
         "3.4231",
         "0.2809",
         "0.1761",
         "10.4779",
         "68.3446",
         "-24.0948",
         "0.3647",
         "371.79",
         "g"
        ],
        [
         "32",
         "34.9205",
         "15.9621",
         "2.8457",
         "0.3267",
         "0.1762",
         "15.8025",
         "11.8249",
         "11.9768",
         "9.59",
         "154.712",
         "g"
        ],
        [
         "33",
         "28.6609",
         "19.1223",
         "2.8609",
         "0.3402",
         "0.1894",
         "-10.3243",
         "-23.1846",
         "11.4633",
         "20.7574",
         "199.059",
         "g"
        ],
        [
         "34",
         "75.2057",
         "31.6833",
         "3.1334",
         "0.192",
         "0.0997",
         "-58.1243",
         "43.08",
         "10.3219",
         "1.5926",
         "282.915",
         "g"
        ],
        [
         "35",
         "84.61",
         "36.4657",
         "3.6809",
         "0.1393",
         "0.0714",
         "54.4505",
         "86.0228",
         "16.1472",
         "17.575",
         "258.597",
         "g"
        ],
        [
         "36",
         "45.6094",
         "20.8103",
         "3.0438",
         "0.226",
         "0.1162",
         "-0.5056",
         "37.7755",
         "-9.2036",
         "4.25",
         "165.582",
         "g"
        ],
        [
         "37",
         "37.742",
         "24.3346",
         "3.0404",
         "0.2478",
         "0.1508",
         "5.998",
         "34.4104",
         "13.7756",
         "24.216",
         "131.601",
         "g"
        ],
        [
         "38",
         "38.1817",
         "15.9235",
         "2.6906",
         "0.3262",
         "0.1662",
         "10.1326",
         "26.1095",
         "-3.1071",
         "2.572",
         "177.008",
         "g"
        ],
        [
         "39",
         "73.6263",
         "35.582",
         "3.4533",
         "0.2493",
         "0.1333",
         "-48.0377",
         "42.6119",
         "-26.2742",
         "4.471",
         "372.317",
         "g"
        ],
        [
         "40",
         "63.3453",
         "24.3855",
         "3.4233",
         "0.2339",
         "0.1375",
         "-48.6381",
         "-19.4147",
         "16.9773",
         "0.64",
         "291.553",
         "g"
        ],
        [
         "41",
         "16.7608",
         "11.3962",
         "2.2989",
         "0.5829",
         "0.3291",
         "-0.8645",
         "5.0177",
         "-5.7427",
         "62.618",
         "169.688",
         "g"
        ],
        [
         "42",
         "27.6746",
         "18.9149",
         "2.5422",
         "0.3759",
         "0.2224",
         "30.937",
         "20.242",
         "15.143",
         "19.3719",
         "223.241",
         "g"
        ],
        [
         "43",
         "13.2617",
         "10.7145",
         "2.1319",
         "0.7823",
         "0.4096",
         "14.7178",
         "2.4666",
         "-11.8517",
         "68.604",
         "107.851",
         "g"
        ],
        [
         "44",
         "61.6463",
         "21.171",
         "3.4303",
         "0.2112",
         "0.1086",
         "54.8329",
         "52.4882",
         "-18.9858",
         "4.2131",
         "234.581",
         "g"
        ],
        [
         "45",
         "18.6533",
         "15.1674",
         "2.4338",
         "0.523",
         "0.337",
         "-4.2971",
         "16.0316",
         "8.0971",
         "4.7998",
         "55.7509",
         "g"
        ],
        [
         "46",
         "38.1627",
         "25.1091",
         "3.1041",
         "0.247",
         "0.1279",
         "37.2749",
         "22.8564",
         "16.227",
         "5.5119",
         "188.124",
         "g"
        ],
        [
         "47",
         "12.974",
         "10.9058",
         "2.1021",
         "0.7431",
         "0.4704",
         "13.7506",
         "-6.2434",
         "-6.5973",
         "42.2408",
         "168.245",
         "g"
        ],
        [
         "48",
         "63.2886",
         "26.427",
         "3.4434",
         "0.2342",
         "0.1273",
         "-27.3566",
         "54.6506",
         "19.7834",
         "0.9753",
         "302.897",
         "g"
        ],
        [
         "49",
         "24.999",
         "14.6867",
         "2.5434",
         "0.432",
         "0.2332",
         "5.8044",
         "19.2386",
         "-10.3623",
         "9.862",
         "174.003",
         "g"
        ]
       ],
       "shape": {
        "columns": 11,
        "rows": 19020
       }
      },
      "text/html": [
       "<div>\n",
       "<style scoped>\n",
       "    .dataframe tbody tr th:only-of-type {\n",
       "        vertical-align: middle;\n",
       "    }\n",
       "\n",
       "    .dataframe tbody tr th {\n",
       "        vertical-align: top;\n",
       "    }\n",
       "\n",
       "    .dataframe thead th {\n",
       "        text-align: right;\n",
       "    }\n",
       "</style>\n",
       "<table border=\"1\" class=\"dataframe\">\n",
       "  <thead>\n",
       "    <tr style=\"text-align: right;\">\n",
       "      <th></th>\n",
       "      <th>fLength</th>\n",
       "      <th>fWidth</th>\n",
       "      <th>fSize</th>\n",
       "      <th>fConc</th>\n",
       "      <th>fConc1</th>\n",
       "      <th>fAsym</th>\n",
       "      <th>fM3Long</th>\n",
       "      <th>fM3Trans</th>\n",
       "      <th>fAlpha</th>\n",
       "      <th>fDist</th>\n",
       "      <th>class</th>\n",
       "    </tr>\n",
       "  </thead>\n",
       "  <tbody>\n",
       "    <tr>\n",
       "      <th>0</th>\n",
       "      <td>28.7967</td>\n",
       "      <td>16.0021</td>\n",
       "      <td>2.6449</td>\n",
       "      <td>0.3918</td>\n",
       "      <td>0.1982</td>\n",
       "      <td>27.7004</td>\n",
       "      <td>22.0110</td>\n",
       "      <td>-8.2027</td>\n",
       "      <td>40.0920</td>\n",
       "      <td>81.8828</td>\n",
       "      <td>g</td>\n",
       "    </tr>\n",
       "    <tr>\n",
       "      <th>1</th>\n",
       "      <td>31.6036</td>\n",
       "      <td>11.7235</td>\n",
       "      <td>2.5185</td>\n",
       "      <td>0.5303</td>\n",
       "      <td>0.3773</td>\n",
       "      <td>26.2722</td>\n",
       "      <td>23.8238</td>\n",
       "      <td>-9.9574</td>\n",
       "      <td>6.3609</td>\n",
       "      <td>205.2610</td>\n",
       "      <td>g</td>\n",
       "    </tr>\n",
       "    <tr>\n",
       "      <th>2</th>\n",
       "      <td>162.0520</td>\n",
       "      <td>136.0310</td>\n",
       "      <td>4.0612</td>\n",
       "      <td>0.0374</td>\n",
       "      <td>0.0187</td>\n",
       "      <td>116.7410</td>\n",
       "      <td>-64.8580</td>\n",
       "      <td>-45.2160</td>\n",
       "      <td>76.9600</td>\n",
       "      <td>256.7880</td>\n",
       "      <td>g</td>\n",
       "    </tr>\n",
       "    <tr>\n",
       "      <th>3</th>\n",
       "      <td>23.8172</td>\n",
       "      <td>9.5728</td>\n",
       "      <td>2.3385</td>\n",
       "      <td>0.6147</td>\n",
       "      <td>0.3922</td>\n",
       "      <td>27.2107</td>\n",
       "      <td>-6.4633</td>\n",
       "      <td>-7.1513</td>\n",
       "      <td>10.4490</td>\n",
       "      <td>116.7370</td>\n",
       "      <td>g</td>\n",
       "    </tr>\n",
       "    <tr>\n",
       "      <th>4</th>\n",
       "      <td>75.1362</td>\n",
       "      <td>30.9205</td>\n",
       "      <td>3.1611</td>\n",
       "      <td>0.3168</td>\n",
       "      <td>0.1832</td>\n",
       "      <td>-5.5277</td>\n",
       "      <td>28.5525</td>\n",
       "      <td>21.8393</td>\n",
       "      <td>4.6480</td>\n",
       "      <td>356.4620</td>\n",
       "      <td>g</td>\n",
       "    </tr>\n",
       "    <tr>\n",
       "      <th>...</th>\n",
       "      <td>...</td>\n",
       "      <td>...</td>\n",
       "      <td>...</td>\n",
       "      <td>...</td>\n",
       "      <td>...</td>\n",
       "      <td>...</td>\n",
       "      <td>...</td>\n",
       "      <td>...</td>\n",
       "      <td>...</td>\n",
       "      <td>...</td>\n",
       "      <td>...</td>\n",
       "    </tr>\n",
       "    <tr>\n",
       "      <th>19015</th>\n",
       "      <td>21.3846</td>\n",
       "      <td>10.9170</td>\n",
       "      <td>2.6161</td>\n",
       "      <td>0.5857</td>\n",
       "      <td>0.3934</td>\n",
       "      <td>15.2618</td>\n",
       "      <td>11.5245</td>\n",
       "      <td>2.8766</td>\n",
       "      <td>2.4229</td>\n",
       "      <td>106.8258</td>\n",
       "      <td>h</td>\n",
       "    </tr>\n",
       "    <tr>\n",
       "      <th>19016</th>\n",
       "      <td>28.9452</td>\n",
       "      <td>6.7020</td>\n",
       "      <td>2.2672</td>\n",
       "      <td>0.5351</td>\n",
       "      <td>0.2784</td>\n",
       "      <td>37.0816</td>\n",
       "      <td>13.1853</td>\n",
       "      <td>-2.9632</td>\n",
       "      <td>86.7975</td>\n",
       "      <td>247.4560</td>\n",
       "      <td>h</td>\n",
       "    </tr>\n",
       "    <tr>\n",
       "      <th>19017</th>\n",
       "      <td>75.4455</td>\n",
       "      <td>47.5305</td>\n",
       "      <td>3.4483</td>\n",
       "      <td>0.1417</td>\n",
       "      <td>0.0549</td>\n",
       "      <td>-9.3561</td>\n",
       "      <td>41.0562</td>\n",
       "      <td>-9.4662</td>\n",
       "      <td>30.2987</td>\n",
       "      <td>256.5166</td>\n",
       "      <td>h</td>\n",
       "    </tr>\n",
       "    <tr>\n",
       "      <th>19018</th>\n",
       "      <td>120.5135</td>\n",
       "      <td>76.9018</td>\n",
       "      <td>3.9939</td>\n",
       "      <td>0.0944</td>\n",
       "      <td>0.0683</td>\n",
       "      <td>5.8043</td>\n",
       "      <td>-93.5224</td>\n",
       "      <td>-63.8389</td>\n",
       "      <td>84.6874</td>\n",
       "      <td>408.3166</td>\n",
       "      <td>h</td>\n",
       "    </tr>\n",
       "    <tr>\n",
       "      <th>19019</th>\n",
       "      <td>187.1814</td>\n",
       "      <td>53.0014</td>\n",
       "      <td>3.2093</td>\n",
       "      <td>0.2876</td>\n",
       "      <td>0.1539</td>\n",
       "      <td>-167.3125</td>\n",
       "      <td>-168.4558</td>\n",
       "      <td>31.4755</td>\n",
       "      <td>52.7310</td>\n",
       "      <td>272.3174</td>\n",
       "      <td>h</td>\n",
       "    </tr>\n",
       "  </tbody>\n",
       "</table>\n",
       "<p>19020 rows × 11 columns</p>\n",
       "</div>"
      ],
      "text/plain": [
       "        fLength    fWidth   fSize   fConc  fConc1     fAsym   fM3Long  \\\n",
       "0       28.7967   16.0021  2.6449  0.3918  0.1982   27.7004   22.0110   \n",
       "1       31.6036   11.7235  2.5185  0.5303  0.3773   26.2722   23.8238   \n",
       "2      162.0520  136.0310  4.0612  0.0374  0.0187  116.7410  -64.8580   \n",
       "3       23.8172    9.5728  2.3385  0.6147  0.3922   27.2107   -6.4633   \n",
       "4       75.1362   30.9205  3.1611  0.3168  0.1832   -5.5277   28.5525   \n",
       "...         ...       ...     ...     ...     ...       ...       ...   \n",
       "19015   21.3846   10.9170  2.6161  0.5857  0.3934   15.2618   11.5245   \n",
       "19016   28.9452    6.7020  2.2672  0.5351  0.2784   37.0816   13.1853   \n",
       "19017   75.4455   47.5305  3.4483  0.1417  0.0549   -9.3561   41.0562   \n",
       "19018  120.5135   76.9018  3.9939  0.0944  0.0683    5.8043  -93.5224   \n",
       "19019  187.1814   53.0014  3.2093  0.2876  0.1539 -167.3125 -168.4558   \n",
       "\n",
       "       fM3Trans   fAlpha     fDist class  \n",
       "0       -8.2027  40.0920   81.8828     g  \n",
       "1       -9.9574   6.3609  205.2610     g  \n",
       "2      -45.2160  76.9600  256.7880     g  \n",
       "3       -7.1513  10.4490  116.7370     g  \n",
       "4       21.8393   4.6480  356.4620     g  \n",
       "...         ...      ...       ...   ...  \n",
       "19015    2.8766   2.4229  106.8258     h  \n",
       "19016   -2.9632  86.7975  247.4560     h  \n",
       "19017   -9.4662  30.2987  256.5166     h  \n",
       "19018  -63.8389  84.6874  408.3166     h  \n",
       "19019   31.4755  52.7310  272.3174     h  \n",
       "\n",
       "[19020 rows x 11 columns]"
      ]
     },
     "execution_count": 134,
     "metadata": {},
     "output_type": "execute_result"
    }
   ],
   "source": [
    "col = ['fLength', 'fWidth', 'fSize', 'fConc', 'fConc1', 'fAsym', 'fM3Long', 'fM3Trans', 'fAlpha', 'fDist', 'class']\n",
    "df = pd.read_csv(r\"C:\\Freelance\\Document\\Magic Gamma.data\", names=col)\n",
    "df"
   ]
  },
  {
   "cell_type": "code",
   "execution_count": 135,
   "metadata": {},
   "outputs": [],
   "source": [
    "# Making class to int\n",
    "df['class'] = (df['class'] == 'g').astype(int)"
   ]
  },
  {
   "cell_type": "code",
   "execution_count": 136,
   "metadata": {},
   "outputs": [
    {
     "data": {
      "image/png": "[encoded data removed]",
      "text/plain": [
       "<Figure size 800x400 with 1 Axes>"
      ]
     },
     "metadata": {},
     "output_type": "display_data"
    },
    {
     "data": {
      "image/png": "[encoded data removed]",
      "text/plain": [
       "<Figure size 800x400 with 1 Axes>"
      ]
     },
     "metadata": {},
     "output_type": "display_data"
    },
    {
     "data": {
      "image/png": "[encoded data removed]",
      "text/plain": [
       "<Figure size 800x400 with 1 Axes>"
      ]
     },
     "metadata": {},
     "output_type": "display_data"
    },
    {
     "data": {
      "image/png": "[encoded data removed]",
      "text/plain": [
       "<Figure size 800x400 with 1 Axes>"
      ]
     },
     "metadata": {},
     "output_type": "display_data"
    },
    {
     "data": {
      "image/png": "[encoded data removed]",
      "text/plain": [
       "<Figure size 800x400 with 1 Axes>"
      ]
     },
     "metadata": {},
     "output_type": "display_data"
    },
    {
     "data": {
      "image/png": "[encoded data removed]",
      "text/plain": [
       "<Figure size 800x400 with 1 Axes>"
      ]
     },
     "metadata": {},
     "output_type": "display_data"
    },
    {
     "data": {
      "image/png": "[encoded data removed]",
      "text/plain": [
       "<Figure size 800x400 with 1 Axes>"
      ]
     },
     "metadata": {},
     "output_type": "display_data"
    },
    {
     "data": {
      "image/png": "[encoded data removed]",
      "text/plain": [
       "<Figure size 800x400 with 1 Axes>"
      ]
     },
     "metadata": {},
     "output_type": "display_data"
    },
    {
     "data": {
      "image/png": "[encoded data removed]",
      "text/plain": [
       "<Figure size 800x400 with 1 Axes>"
      ]
     },
     "metadata": {},
     "output_type": "display_data"
    },
    {
     "data": {
      "image/png": "[encoded data removed]",
      "text/plain": [
       "<Figure size 800x400 with 1 Axes>"
      ]
     },
     "metadata": {},
     "output_type": "display_data"
    }
   ],
   "source": [
    "for label in df.columns[:-1]:\n",
    "    plt.figure(figsize=(8,4))\n",
    "    plt.hist(df[df[\"class\"]==1] [label], color='blue', label='Gamma', alpha=0.7, density=True)\n",
    "    plt.hist(df[df[\"class\"]==0] [label], color='red', label='Hadron', alpha=0.7, density=True)\n",
    "    plt.title(\"Label\")\n",
    "    plt.ylabel(\"Probability\")\n",
    "    plt.xlabel(label)\n",
    "    plt.legend()\n",
    "    plt.show()"
   ]
  },
  {
   "cell_type": "code",
   "execution_count": 137,
   "metadata": {},
   "outputs": [],
   "source": [
    "train, valid, test = np.split(df.sample(frac=1), [int(0.6*len(df)), int(0.8*len(df))])"
   ]
  },
  {
   "cell_type": "code",
   "execution_count": null,
   "metadata": {},
   "outputs": [],
   "source": [
    "def scale_dataset(dataframe, oversample=False):\n",
    "    x = dataframe[dataframe.columns[:-1]].values\n",
    "    y = dataframe[dataframe.columns[-1]].values\n",
    "    \n",
    "    scaler = StandardScaler() \n",
    "    x = scaler.fit_transform(x)\n",
    "    if oversample:\n",
    "        ros = RandomOverSampler()\n",
    "        x, y = ros.fit_resample(x, y)\n",
    "    data = np.hstack((x, np.reshape(y, (-1, 1))))\n",
    "    return data, x , y"
   ]
  },
  {
   "cell_type": "code",
   "execution_count": 139,
   "metadata": {},
   "outputs": [],
   "source": [
    "train, x_train, y_train = scale_dataset(train, oversample=True)\n",
    "valid, x_valid, y_valid = scale_dataset(valid, oversample=False)\n",
    "test, x_test, y_test = scale_dataset(test, oversample=False)"
   ]
  },
  {
   "cell_type": "code",
   "execution_count": 140,
   "metadata": {},
   "outputs": [
    {
     "name": "stdout",
     "output_type": "stream",
     "text": [
      "Hadron = 7448\n",
      "Gamma  = 7448\n"
     ]
    }
   ],
   "source": [
    "print(f'Hadron = {sum(y_train == 0)}')\n",
    "print(f'Gamma  = {sum(y_train == 1)}')"
   ]
  },
  {
   "cell_type": "code",
   "execution_count": 143,
   "metadata": {},
   "outputs": [],
   "source": [
    "from sklearn.neighbors import KNeighborsClassifier\n",
    "from sklearn.metrics import classification_report"
   ]
  },
  {
   "cell_type": "code",
   "execution_count": 142,
   "metadata": {},
   "outputs": [],
   "source": [
    "knn_model = KNeighborsClassifier(n_neighbors=1)\n",
    "knn_model.fit(x_train, y_train)\n",
    "y_pred = knn_model.predict(x_test)"
   ]
  },
  {
   "cell_type": "code",
   "execution_count": null,
   "metadata": {},
   "outputs": [
    {
     "name": "stdout",
     "output_type": "stream",
     "text": [
      "              precision    recall  f1-score   support\n",
      "\n",
      "           0       0.79      0.68      0.73      1369\n",
      "           1       0.83      0.90      0.86      2435\n",
      "\n",
      "    accuracy                           0.82      3804\n",
      "   macro avg       0.81      0.79      0.79      3804\n",
      "weighted avg       0.82      0.82      0.81      3804\n",
      "\n"
     ]
    }
   ],
   "source": [
    "print(classification_report(y_test, y_pred))"
   ]
  }
 ],
 "metadata": {
  "kernelspec": {
   "display_name": "venv",
   "language": "python",
   "name": "python3"
  },
  "language_info": {
   "codemirror_mode": {
    "name": "ipython",
    "version": 3
   },
   "file_extension": ".py",
   "mimetype": "text/x-python",
   "name": "python",
   "nbconvert_exporter": "python",
   "pygments_lexer": "ipython3",
   "version": "3.13.2"
  }
 },
 "nbformat": 4,
 "nbformat_minor": 2
}
