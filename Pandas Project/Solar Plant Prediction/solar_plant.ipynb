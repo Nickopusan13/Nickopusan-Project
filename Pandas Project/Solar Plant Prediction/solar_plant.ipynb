{
 "cells": [
  {
   "cell_type": "code",
   "execution_count": null,
   "metadata": {},
   "outputs": [],
   "source": [
    "import pandas as pd\n",
    "import numpy as np\n",
    "import matplotlib.pyplot as plt\n",
    "import seaborn as sns\n",
    "from sklearn.model_selection import train_test_split, cross_val_score\n",
    "from sklearn.metrics import classification_report\n",
    "from sklearn.preprocessing import LabelEncoder, StandardScaler\n",
    "from imblearn.over_sampling import RandomOverSampler\n",
    "from xgboost import XGBClassifier\n",
    "from joblib import dump\n",
    "import warnings\n",
    "warnings.filterwarnings(\"ignore\")"
   ]
  },
  {
   "cell_type": "code",
   "execution_count": 862,
   "metadata": {},
   "outputs": [
    {
     "name": "stdout",
     "output_type": "stream",
     "text": [
      "Plant 1 Duplicate \t: 0\n",
      "Plant 2 Duplicate \t: 0\n",
      "Solar Duplicate \t: 0\n"
     ]
    }
   ],
   "source": [
    "plant_1 = pd.read_csv(r\"C:\\Freelance\\Document\\Plant_1_Generation_Data.csv\")\n",
    "plant_2 = pd.read_csv(r\"C:\\Freelance\\Document\\Plant_2_Generation_Data.csv\")\n",
    "solar = pd.read_csv(r\"C:\\Freelance\\Document\\SolarRecording.csv\")\n",
    "\n",
    "print(f'Plant 1 Duplicate \\t: {plant_1.duplicated().sum()}')\n",
    "print(f'Plant 2 Duplicate \\t: {plant_2.duplicated().sum()}')\n",
    "print(f'Solar Duplicate \\t: {solar.duplicated().sum()}')"
   ]
  },
  {
   "cell_type": "code",
   "execution_count": 863,
   "metadata": {},
   "outputs": [],
   "source": [
    "plant_1['DATE_TIME'] = pd.to_datetime(plant_1['DATE_TIME'])\n",
    "plant_2['DATE_TIME'] = pd.to_datetime(plant_2['DATE_TIME'])\n",
    "solar['DATE_TIME'] = pd.to_datetime(solar['Date'] + ' ' + solar['Time'])\n",
    "solar = solar.drop(columns=['Date', 'Time', 'Unnamed: 0'])"
   ]
  },
  {
   "cell_type": "code",
   "execution_count": 864,
   "metadata": {},
   "outputs": [],
   "source": [
    "all_plant = pd.concat([plant_1, plant_2], ignore_index=True)\n",
    "solar['DATE_TIME'] = solar['DATE_TIME'].dt.round('15min')\n",
    "all_plant = all_plant.merge(solar, on='DATE_TIME', how='left')"
   ]
  },
  {
   "cell_type": "code",
   "execution_count": 865,
   "metadata": {},
   "outputs": [],
   "source": [
    "all_plant.isna().sum()\n",
    "all_plant_test = all_plant.dropna()"
   ]
  },
  {
   "cell_type": "code",
   "execution_count": 879,
   "metadata": {},
   "outputs": [
    {
     "data": {
      "text/plain": [
       "(357760, 20)"
      ]
     },
     "execution_count": 879,
     "metadata": {},
     "output_type": "execute_result"
    }
   ],
   "source": [
    "all_plant_test.shape"
   ]
  },
  {
   "cell_type": "code",
   "execution_count": 866,
   "metadata": {},
   "outputs": [],
   "source": [
    "def time_to_hours(time_str):\n",
    "    h, m, s = map(int, time_str.split(':'))\n",
    "    return h + m/60 + s/3600\n",
    "\n",
    "all_plant_test['TimeSunRise'] = all_plant_test['TimeSunRise'].apply(time_to_hours)\n",
    "all_plant_test['TimeSunSet'] = all_plant_test['TimeSunSet'].apply(time_to_hours)\n",
    "all_plant_test['hour'] = pd.to_datetime(all_plant_test['DATE_TIME']).dt.hour.astype(int)\n",
    "all_plant_test['hist_median_AC'] = all_plant_test.groupby(['SOURCE_KEY', 'hour'])['AC_POWER'].transform('median')\n",
    "all_plant_test['day_of_year'] = all_plant_test['DATE_TIME'].dt.dayofyear"
   ]
  },
  {
   "cell_type": "code",
   "execution_count": 867,
   "metadata": {},
   "outputs": [
    {
     "data": {
      "application/vnd.microsoft.datawrangler.viewer.v0+json": {
       "columns": [
        {
         "name": "index",
         "rawType": "object",
         "type": "string"
        },
        {
         "name": "DATE_TIME",
         "rawType": "object",
         "type": "unknown"
        },
        {
         "name": "PLANT_ID",
         "rawType": "float64",
         "type": "float"
        },
        {
         "name": "DC_POWER",
         "rawType": "float64",
         "type": "float"
        },
        {
         "name": "AC_POWER",
         "rawType": "float64",
         "type": "float"
        },
        {
         "name": "DAILY_YIELD",
         "rawType": "float64",
         "type": "float"
        },
        {
         "name": "TOTAL_YIELD",
         "rawType": "float64",
         "type": "float"
        },
        {
         "name": "UNIXTime",
         "rawType": "float64",
         "type": "float"
        },
        {
         "name": "Radiation",
         "rawType": "float64",
         "type": "float"
        },
        {
         "name": "Temperature",
         "rawType": "float64",
         "type": "float"
        },
        {
         "name": "Pressure",
         "rawType": "float64",
         "type": "float"
        },
        {
         "name": "Humidity",
         "rawType": "float64",
         "type": "float"
        },
        {
         "name": "WindDirection(Degrees)",
         "rawType": "float64",
         "type": "float"
        },
        {
         "name": "Speed",
         "rawType": "float64",
         "type": "float"
        },
        {
         "name": "TimeSunRise",
         "rawType": "float64",
         "type": "float"
        },
        {
         "name": "TimeSunSet",
         "rawType": "float64",
         "type": "float"
        },
        {
         "name": "hour",
         "rawType": "float64",
         "type": "float"
        },
        {
         "name": "hist_median_AC",
         "rawType": "float64",
         "type": "float"
        },
        {
         "name": "day_of_year",
         "rawType": "float64",
         "type": "float"
        }
       ],
       "conversionMethod": "pd.DataFrame",
       "ref": "24324be1-efef-4a01-8815-9dd6a2dd6a10",
       "rows": [
        [
         "count",
         "357760",
         "357760.0",
         "357760.0",
         "357760.0",
         "357760.0",
         "357760.0",
         "357760.0",
         "357760.0",
         "357760.0",
         "357760.0",
         "357760.0",
         "357760.0",
         "357760.0",
         "357760.0",
         "357760.0",
         "357760.0",
         "357760.0",
         "357760.0"
        ],
        [
         "mean",
         "2020-06-01 14:14:02.982725888",
         "4135498.668828265",
         "1604.0969911750092",
         "260.1227648842756",
         "3287.549955489854",
         "330341378.72650725",
         "1474244057.8774793",
         "225.6424248937836",
         "53.62399653398926",
         "30.43399695326476",
         "82.02622707960644",
         "132.15033393895345",
         "5.457392497763865",
         "6.178121738968397",
         "18.37738027355396",
         "11.676777728085868",
         "263.86912529397097",
         "153.0909212880143"
        ],
        [
         "min",
         "2020-05-15 00:00:00",
         "4135001.0",
         "0.0",
         "0.0",
         "0.0",
         "0.0",
         "1472724008.0",
         "1.15",
         "41.0",
         "30.34",
         "15.0",
         "0.1",
         "0.0",
         "6.116666666666666",
         "18.133333333333333",
         "0.0",
         "0.0",
         "136.0"
        ],
        [
         "25%",
         "2020-05-24 18:30:00",
         "4135001.0",
         "0.0",
         "0.0",
         "22.5",
         "6523269.0",
         "1473568519.0",
         "1.26",
         "49.0",
         "30.41",
         "71.0",
         "64.43",
         "3.37",
         "6.15",
         "18.25",
         "6.0",
         "0.0",
         "145.0"
        ],
        [
         "50%",
         "2020-06-02 12:07:30",
         "4135001.0",
         "0.0",
         "0.0",
         "2835.125",
         "7274225.286",
         "1474322856.0",
         "4.43",
         "53.0",
         "30.43",
         "89.0",
         "138.77",
         "5.62",
         "6.183333333333334",
         "18.366666666666667",
         "12.0",
         "18.366666666666667",
         "154.0"
        ],
        [
         "75%",
         "2020-06-09 19:00:00",
         "4136001.0",
         "1064.993333333333",
         "494.45714285714286",
         "5970.0",
         "282609586.0",
         "1474952421.0",
         "366.92",
         "58.0",
         "30.46",
         "98.0",
         "174.66",
         "6.75",
         "6.2",
         "18.5",
         "18.0",
         "568.5266666666665",
         "161.0"
        ],
        [
         "max",
         "2020-06-17 23:45:00",
         "4136001.0",
         "14471.125",
         "1410.95",
         "9873.0",
         "2247916295.0",
         "1475661024.0",
         "1601.26",
         "71.0",
         "30.53",
         "103.0",
         "359.93",
         "20.25",
         "6.233333333333333",
         "18.633333333333333",
         "23.0",
         "996.3266666666666",
         "169.0"
        ],
        [
         "std",
         null,
         "499.99526439516467",
         "3102.368223792488",
         "369.3852090285838",
         "3029.2460935854783",
         "608079345.4304733",
         "853995.0580820863",
         "337.575816152684",
         "5.657802733999706",
         "0.03321474619282011",
         "19.586357028382352",
         "83.58377599281685",
         "2.7910535478646152",
         "0.03500110414771871",
         "0.14927938020152512",
         "6.936815525061218",
         "336.7944616768864",
         "9.881619879631874"
        ]
       ],
       "shape": {
        "columns": 18,
        "rows": 8
       }
      },
      "text/html": [
       "<div>\n",
       "<style scoped>\n",
       "    .dataframe tbody tr th:only-of-type {\n",
       "        vertical-align: middle;\n",
       "    }\n",
       "\n",
       "    .dataframe tbody tr th {\n",
       "        vertical-align: top;\n",
       "    }\n",
       "\n",
       "    .dataframe thead th {\n",
       "        text-align: right;\n",
       "    }\n",
       "</style>\n",
       "<table border=\"1\" class=\"dataframe\">\n",
       "  <thead>\n",
       "    <tr style=\"text-align: right;\">\n",
       "      <th></th>\n",
       "      <th>DATE_TIME</th>\n",
       "      <th>PLANT_ID</th>\n",
       "      <th>DC_POWER</th>\n",
       "      <th>AC_POWER</th>\n",
       "      <th>DAILY_YIELD</th>\n",
       "      <th>TOTAL_YIELD</th>\n",
       "      <th>UNIXTime</th>\n",
       "      <th>Radiation</th>\n",
       "      <th>Temperature</th>\n",
       "      <th>Pressure</th>\n",
       "      <th>Humidity</th>\n",
       "      <th>WindDirection(Degrees)</th>\n",
       "      <th>Speed</th>\n",
       "      <th>TimeSunRise</th>\n",
       "      <th>TimeSunSet</th>\n",
       "      <th>hour</th>\n",
       "      <th>hist_median_AC</th>\n",
       "      <th>day_of_year</th>\n",
       "    </tr>\n",
       "  </thead>\n",
       "  <tbody>\n",
       "    <tr>\n",
       "      <th>count</th>\n",
       "      <td>357760</td>\n",
       "      <td>3.577600e+05</td>\n",
       "      <td>357760.000000</td>\n",
       "      <td>357760.000000</td>\n",
       "      <td>357760.000000</td>\n",
       "      <td>3.577600e+05</td>\n",
       "      <td>3.577600e+05</td>\n",
       "      <td>357760.000000</td>\n",
       "      <td>357760.000000</td>\n",
       "      <td>357760.000000</td>\n",
       "      <td>357760.000000</td>\n",
       "      <td>357760.000000</td>\n",
       "      <td>357760.000000</td>\n",
       "      <td>357760.000000</td>\n",
       "      <td>357760.000000</td>\n",
       "      <td>357760.000000</td>\n",
       "      <td>357760.000000</td>\n",
       "      <td>357760.000000</td>\n",
       "    </tr>\n",
       "    <tr>\n",
       "      <th>mean</th>\n",
       "      <td>2020-06-01 14:14:02.982725888</td>\n",
       "      <td>4.135499e+06</td>\n",
       "      <td>1604.096991</td>\n",
       "      <td>260.122765</td>\n",
       "      <td>3287.549955</td>\n",
       "      <td>3.303414e+08</td>\n",
       "      <td>1.474244e+09</td>\n",
       "      <td>225.642425</td>\n",
       "      <td>53.623997</td>\n",
       "      <td>30.433997</td>\n",
       "      <td>82.026227</td>\n",
       "      <td>132.150334</td>\n",
       "      <td>5.457392</td>\n",
       "      <td>6.178122</td>\n",
       "      <td>18.377380</td>\n",
       "      <td>11.676778</td>\n",
       "      <td>263.869125</td>\n",
       "      <td>153.090921</td>\n",
       "    </tr>\n",
       "    <tr>\n",
       "      <th>min</th>\n",
       "      <td>2020-05-15 00:00:00</td>\n",
       "      <td>4.135001e+06</td>\n",
       "      <td>0.000000</td>\n",
       "      <td>0.000000</td>\n",
       "      <td>0.000000</td>\n",
       "      <td>0.000000e+00</td>\n",
       "      <td>1.472724e+09</td>\n",
       "      <td>1.150000</td>\n",
       "      <td>41.000000</td>\n",
       "      <td>30.340000</td>\n",
       "      <td>15.000000</td>\n",
       "      <td>0.100000</td>\n",
       "      <td>0.000000</td>\n",
       "      <td>6.116667</td>\n",
       "      <td>18.133333</td>\n",
       "      <td>0.000000</td>\n",
       "      <td>0.000000</td>\n",
       "      <td>136.000000</td>\n",
       "    </tr>\n",
       "    <tr>\n",
       "      <th>25%</th>\n",
       "      <td>2020-05-24 18:30:00</td>\n",
       "      <td>4.135001e+06</td>\n",
       "      <td>0.000000</td>\n",
       "      <td>0.000000</td>\n",
       "      <td>22.500000</td>\n",
       "      <td>6.523269e+06</td>\n",
       "      <td>1.473569e+09</td>\n",
       "      <td>1.260000</td>\n",
       "      <td>49.000000</td>\n",
       "      <td>30.410000</td>\n",
       "      <td>71.000000</td>\n",
       "      <td>64.430000</td>\n",
       "      <td>3.370000</td>\n",
       "      <td>6.150000</td>\n",
       "      <td>18.250000</td>\n",
       "      <td>6.000000</td>\n",
       "      <td>0.000000</td>\n",
       "      <td>145.000000</td>\n",
       "    </tr>\n",
       "    <tr>\n",
       "      <th>50%</th>\n",
       "      <td>2020-06-02 12:07:30</td>\n",
       "      <td>4.135001e+06</td>\n",
       "      <td>0.000000</td>\n",
       "      <td>0.000000</td>\n",
       "      <td>2835.125000</td>\n",
       "      <td>7.274225e+06</td>\n",
       "      <td>1.474323e+09</td>\n",
       "      <td>4.430000</td>\n",
       "      <td>53.000000</td>\n",
       "      <td>30.430000</td>\n",
       "      <td>89.000000</td>\n",
       "      <td>138.770000</td>\n",
       "      <td>5.620000</td>\n",
       "      <td>6.183333</td>\n",
       "      <td>18.366667</td>\n",
       "      <td>12.000000</td>\n",
       "      <td>18.366667</td>\n",
       "      <td>154.000000</td>\n",
       "    </tr>\n",
       "    <tr>\n",
       "      <th>75%</th>\n",
       "      <td>2020-06-09 19:00:00</td>\n",
       "      <td>4.136001e+06</td>\n",
       "      <td>1064.993333</td>\n",
       "      <td>494.457143</td>\n",
       "      <td>5970.000000</td>\n",
       "      <td>2.826096e+08</td>\n",
       "      <td>1.474952e+09</td>\n",
       "      <td>366.920000</td>\n",
       "      <td>58.000000</td>\n",
       "      <td>30.460000</td>\n",
       "      <td>98.000000</td>\n",
       "      <td>174.660000</td>\n",
       "      <td>6.750000</td>\n",
       "      <td>6.200000</td>\n",
       "      <td>18.500000</td>\n",
       "      <td>18.000000</td>\n",
       "      <td>568.526667</td>\n",
       "      <td>161.000000</td>\n",
       "    </tr>\n",
       "    <tr>\n",
       "      <th>max</th>\n",
       "      <td>2020-06-17 23:45:00</td>\n",
       "      <td>4.136001e+06</td>\n",
       "      <td>14471.125000</td>\n",
       "      <td>1410.950000</td>\n",
       "      <td>9873.000000</td>\n",
       "      <td>2.247916e+09</td>\n",
       "      <td>1.475661e+09</td>\n",
       "      <td>1601.260000</td>\n",
       "      <td>71.000000</td>\n",
       "      <td>30.530000</td>\n",
       "      <td>103.000000</td>\n",
       "      <td>359.930000</td>\n",
       "      <td>20.250000</td>\n",
       "      <td>6.233333</td>\n",
       "      <td>18.633333</td>\n",
       "      <td>23.000000</td>\n",
       "      <td>996.326667</td>\n",
       "      <td>169.000000</td>\n",
       "    </tr>\n",
       "    <tr>\n",
       "      <th>std</th>\n",
       "      <td>NaN</td>\n",
       "      <td>4.999953e+02</td>\n",
       "      <td>3102.368224</td>\n",
       "      <td>369.385209</td>\n",
       "      <td>3029.246094</td>\n",
       "      <td>6.080793e+08</td>\n",
       "      <td>8.539951e+05</td>\n",
       "      <td>337.575816</td>\n",
       "      <td>5.657803</td>\n",
       "      <td>0.033215</td>\n",
       "      <td>19.586357</td>\n",
       "      <td>83.583776</td>\n",
       "      <td>2.791054</td>\n",
       "      <td>0.035001</td>\n",
       "      <td>0.149279</td>\n",
       "      <td>6.936816</td>\n",
       "      <td>336.794462</td>\n",
       "      <td>9.881620</td>\n",
       "    </tr>\n",
       "  </tbody>\n",
       "</table>\n",
       "</div>"
      ],
      "text/plain": [
       "                           DATE_TIME      PLANT_ID       DC_POWER  \\\n",
       "count                         357760  3.577600e+05  357760.000000   \n",
       "mean   2020-06-01 14:14:02.982725888  4.135499e+06    1604.096991   \n",
       "min              2020-05-15 00:00:00  4.135001e+06       0.000000   \n",
       "25%              2020-05-24 18:30:00  4.135001e+06       0.000000   \n",
       "50%              2020-06-02 12:07:30  4.135001e+06       0.000000   \n",
       "75%              2020-06-09 19:00:00  4.136001e+06    1064.993333   \n",
       "max              2020-06-17 23:45:00  4.136001e+06   14471.125000   \n",
       "std                              NaN  4.999953e+02    3102.368224   \n",
       "\n",
       "            AC_POWER    DAILY_YIELD   TOTAL_YIELD      UNIXTime  \\\n",
       "count  357760.000000  357760.000000  3.577600e+05  3.577600e+05   \n",
       "mean      260.122765    3287.549955  3.303414e+08  1.474244e+09   \n",
       "min         0.000000       0.000000  0.000000e+00  1.472724e+09   \n",
       "25%         0.000000      22.500000  6.523269e+06  1.473569e+09   \n",
       "50%         0.000000    2835.125000  7.274225e+06  1.474323e+09   \n",
       "75%       494.457143    5970.000000  2.826096e+08  1.474952e+09   \n",
       "max      1410.950000    9873.000000  2.247916e+09  1.475661e+09   \n",
       "std       369.385209    3029.246094  6.080793e+08  8.539951e+05   \n",
       "\n",
       "           Radiation    Temperature       Pressure       Humidity  \\\n",
       "count  357760.000000  357760.000000  357760.000000  357760.000000   \n",
       "mean      225.642425      53.623997      30.433997      82.026227   \n",
       "min         1.150000      41.000000      30.340000      15.000000   \n",
       "25%         1.260000      49.000000      30.410000      71.000000   \n",
       "50%         4.430000      53.000000      30.430000      89.000000   \n",
       "75%       366.920000      58.000000      30.460000      98.000000   \n",
       "max      1601.260000      71.000000      30.530000     103.000000   \n",
       "std       337.575816       5.657803       0.033215      19.586357   \n",
       "\n",
       "       WindDirection(Degrees)          Speed    TimeSunRise     TimeSunSet  \\\n",
       "count           357760.000000  357760.000000  357760.000000  357760.000000   \n",
       "mean               132.150334       5.457392       6.178122      18.377380   \n",
       "min                  0.100000       0.000000       6.116667      18.133333   \n",
       "25%                 64.430000       3.370000       6.150000      18.250000   \n",
       "50%                138.770000       5.620000       6.183333      18.366667   \n",
       "75%                174.660000       6.750000       6.200000      18.500000   \n",
       "max                359.930000      20.250000       6.233333      18.633333   \n",
       "std                 83.583776       2.791054       0.035001       0.149279   \n",
       "\n",
       "                hour  hist_median_AC    day_of_year  \n",
       "count  357760.000000   357760.000000  357760.000000  \n",
       "mean       11.676778      263.869125     153.090921  \n",
       "min         0.000000        0.000000     136.000000  \n",
       "25%         6.000000        0.000000     145.000000  \n",
       "50%        12.000000       18.366667     154.000000  \n",
       "75%        18.000000      568.526667     161.000000  \n",
       "max        23.000000      996.326667     169.000000  \n",
       "std         6.936816      336.794462       9.881620  "
      ]
     },
     "execution_count": 867,
     "metadata": {},
     "output_type": "execute_result"
    }
   ],
   "source": [
    "all_plant_test.describe()"
   ]
  },
  {
   "cell_type": "code",
   "execution_count": 868,
   "metadata": {},
   "outputs": [
    {
     "data": {
      "image/png": "[encoded data removed]",
      "text/plain": [
       "<Figure size 1600x800 with 4 Axes>"
      ]
     },
     "metadata": {},
     "output_type": "display_data"
    }
   ],
   "source": [
    "failure_data = all_plant_test[\n",
    "    (all_plant_test['AC_POWER'] == 0) &\n",
    "    (all_plant_test['hour'] >= all_plant_test['TimeSunRise']) &\n",
    "    (all_plant_test['hour'] <= all_plant_test['TimeSunSet'] - 1)\n",
    "]\n",
    "\n",
    "fig, axes = plt.subplots(2, 2, figsize=(16, 8))\n",
    "\n",
    "sns.histplot(failure_data['Humidity'], bins=40, kde=True, ax=axes[0,0])\n",
    "axes[0,0].set_title(\"Distribution of Humidity by Failure\")\n",
    "axes[0,0].set_xlabel(\"Humidity\")\n",
    "axes[0,0].set_ylabel(\"Frequency\")\n",
    "\n",
    "sns.histplot(failure_data['Radiation'], bins=30, kde=True, ax=axes[1,1])\n",
    "axes[1,1].set_title(\"Distribution of Radiation by Failure\")\n",
    "axes[1,1].set_xlabel(\"Radiation\")\n",
    "axes[1,1].set_ylabel(\"Frequency\")\n",
    "\n",
    "sns.histplot(failure_data['Temperature'], bins=20, kde=True, ax=axes[0,1])\n",
    "axes[0,1].set_title(\"Distribution of Temperature by Failure\")\n",
    "axes[0,1].set_xlabel(\"Temperature\")\n",
    "axes[0,1].set_ylabel(\"Frequency\")\n",
    "\n",
    "sns.histplot(failure_data['Pressure'], bins=10, kde=True, ax=axes[1,0])\n",
    "axes[1,0].set_title(\"Distribution of Pressure by Failure\")\n",
    "axes[1,0].set_xlabel(\"Pressure\")\n",
    "axes[1,0].set_ylabel(\"Frequency\")\n",
    "\n",
    "fig.suptitle('Distribution Failure', fontsize=16)\n",
    "plt.subplots_adjust(hspace=0.3, wspace=0.2)\n",
    "plt.show()"
   ]
  },
  {
   "cell_type": "code",
   "execution_count": 869,
   "metadata": {},
   "outputs": [],
   "source": [
    "all_plant_test['failure'] = (\n",
    "    ((all_plant_test['AC_POWER'] == 0) & \n",
    "     (all_plant_test['Humidity'] >= 80) &\n",
    "     ((all_plant_test['Radiation'] <= 200) | (all_plant_test['Radiation'] >= 900)) &\n",
    "     (all_plant_test['hour'] >= all_plant_test['TimeSunRise']) & \n",
    "     (all_plant_test['hour'] <= all_plant_test['TimeSunSet'] - 1))\n",
    ").astype(int)\n",
    "\n",
    "encoder = LabelEncoder()\n",
    "all_plant_test['SOURCE_KEY'] = encoder.fit_transform(all_plant_test['SOURCE_KEY'])"
   ]
  },
  {
   "cell_type": "code",
   "execution_count": 870,
   "metadata": {},
   "outputs": [],
   "source": [
    "train, temp = train_test_split(all_plant_test, test_size=0.4, random_state=42, stratify=all_plant_test['failure'])\n",
    "test, valid = train_test_split(temp, test_size=0.5, random_state=42, stratify=temp['failure'])"
   ]
  },
  {
   "cell_type": "code",
   "execution_count": 871,
   "metadata": {},
   "outputs": [],
   "source": [
    "def scale_dataset(dataframe, oversample=False):\n",
    "    x = dataframe.drop(columns=['failure', 'DATE_TIME'])\n",
    "    y = dataframe['failure']\n",
    "    \n",
    "    scaler = StandardScaler()\n",
    "    x = scaler.fit_transform(x)\n",
    "    if oversample:\n",
    "        ros = RandomOverSampler()\n",
    "        x, y = ros.fit_resample(x, y)\n",
    "    data = np.hstack((x, np.reshape(y.values, (-1, 1))))\n",
    "    return data, x, y\n",
    "\n",
    "train, x_train, y_train = scale_dataset(train, oversample=True)\n",
    "valid, x_valid, y_valid = scale_dataset(valid, oversample=False)\n",
    "test, x_test, y_test = scale_dataset(test, oversample=False)"
   ]
  },
  {
   "cell_type": "code",
   "execution_count": 874,
   "metadata": {},
   "outputs": [
    {
     "name": "stdout",
     "output_type": "stream",
     "text": [
      "Classification Report:\n",
      "                precision    recall  f1-score   support\n",
      "\n",
      "           0       1.00      1.00      1.00     71149\n",
      "           1       0.98      1.00      0.99       403\n",
      "\n",
      "    accuracy                           1.00     71552\n",
      "   macro avg       0.99      1.00      0.99     71552\n",
      "weighted avg       1.00      1.00      1.00     71552\n",
      "\n"
     ]
    }
   ],
   "source": [
    "xgb_model = XGBClassifier(n_estimators=100, learning_rate=0.1, max_depth=3, random_state=42)\n",
    "xgb_model.fit(x_train, y_train)\n",
    "y_pred = xgb_model.predict(x_test)\n",
    "\n",
    "print(\"Classification Report:\\n \", classification_report(y_test, y_pred))\n"
   ]
  },
  {
   "cell_type": "code",
   "execution_count": 875,
   "metadata": {},
   "outputs": [
    {
     "name": "stdout",
     "output_type": "stream",
     "text": [
      "Cross-Validation Scores:\n",
      "Fold 1: 1.0000\n",
      "Fold 2: 0.9998\n",
      "Fold 3: 1.0000\n",
      "Fold 4: 0.9997\n",
      "Fold 5: 0.9999\n",
      "\n",
      "Mean CV Score: 0.9999\n",
      "Standard Deviation: 0.0001\n"
     ]
    }
   ],
   "source": [
    "scores = cross_val_score(xgb_model, x_train, y_train, cv=5)\n",
    "print(\"Cross-Validation Scores:\")\n",
    "for i, score in enumerate(scores, 1):\n",
    "    print(f\"Fold {i}: {score:.4f}\")\n",
    "print(f\"\\nMean CV Score: {scores.mean():.4f}\")\n",
    "print(f\"Standard Deviation: {scores.std():.4f}\")"
   ]
  },
  {
   "cell_type": "code",
   "execution_count": null,
   "metadata": {},
   "outputs": [],
   "source": [
    "best_model = xgb_model\n",
    "dump(best_model,'SolarPlant.joblib')"
   ]
  }
 ],
 "metadata": {
  "kernelspec": {
   "display_name": "venv",
   "language": "python",
   "name": "python3"
  },
  "language_info": {
   "codemirror_mode": {
    "name": "ipython",
    "version": 3
   },
   "file_extension": ".py",
   "mimetype": "text/x-python",
   "name": "python",
   "nbconvert_exporter": "python",
   "pygments_lexer": "ipython3",
   "version": "3.13.2"
  }
 },
 "nbformat": 4,
 "nbformat_minor": 2
}
